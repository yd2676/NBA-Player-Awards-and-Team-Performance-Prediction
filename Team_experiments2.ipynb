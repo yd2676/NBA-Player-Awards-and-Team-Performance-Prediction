{
  "nbformat": 4,
  "nbformat_minor": 0,
  "metadata": {
    "colab": {
      "provenance": []
    },
    "kernelspec": {
      "name": "python3",
      "display_name": "Python 3"
    },
    "language_info": {
      "name": "python"
    }
  },
  "cells": [
    {
      "cell_type": "code",
      "execution_count": null,
      "metadata": {
        "id": "Z38p-PvENJqe"
      },
      "outputs": [],
      "source": [
        "import pandas as pd\n",
        "import numpy as np\n",
        "from sklearn.linear_model import LogisticRegression\n",
        "from sklearn.naive_bayes import GaussianNB\n",
        "from sklearn.ensemble import RandomForestClassifier\n",
        "from sklearn.neighbors import KNeighborsClassifier\n",
        "from sklearn.neural_network import MLPClassifier\n",
        "from sklearn.svm import SVC\n",
        "from sklearn import preprocessing\n",
        "from sklearn.model_selection import train_test_split"
      ]
    },
    {
      "cell_type": "code",
      "source": [
        "team_data = pd.read_csv(\"Team Totals.csv\")"
      ],
      "metadata": {
        "id": "GFTXs-6RNk5Q"
      },
      "execution_count": null,
      "outputs": []
    },
    {
      "cell_type": "code",
      "source": [
        "team_data = team_data[team_data['season'] >= 1980]\n",
        "team_data = team_data[team_data['team'] != 'League Average'].reset_index(drop=True)\n",
        "team_data['orb_pg'] = team_data['orb']/team_data['g']\n",
        "team_data['drb_pg'] = team_data['drb']/team_data['g']\n",
        "team_data['ast_pg'] = team_data['ast']/team_data['g']\n",
        "team_data['stl_pg'] = team_data['stl']/team_data['g']\n",
        "team_data['blk_pg'] = team_data['blk']/team_data['g']\n",
        "team_data['tov_pg'] = team_data['tov']/team_data['g']\n",
        "team_data['pts_pg'] = team_data['pts']/team_data['g']\n",
        "\n",
        "test_data = team_data[team_data['season'] == 2023]\n",
        "train_data = team_data[team_data['season'] != 2023]\n",
        "X = train_data[[\"fg\", \"fg_percent\", \"x3p\", \"x3p_percent\", \"x2p\", \"x2p_percent\", \"ft\", \"ft_percent\", \"orb\", \"orb_pg\", \"drb\", \"drb_pg\", \"ast\", \"ast_pg\", \"stl\", \"stl_pg\", \"blk\", \"blk_pg\", \"tov\", \"tov_pg\", \"pts\", \"pts_pg\"]].values\n",
        "y = train_data[\"playoffs\"].values\n",
        "\n",
        "\n",
        "X = preprocessing.StandardScaler().fit_transform(X)\n",
        "X_train, X_test, y_train, y_test = train_test_split(X, y, test_size=0.3, random_state=42)"
      ],
      "metadata": {
        "id": "TIorinYiNr3P"
      },
      "execution_count": null,
      "outputs": []
    },
    {
      "cell_type": "code",
      "source": [
        "team_names = test_data[\"team\"].values.reshape(-1,1)\n",
        "team_names = np.array(team_names)\n",
        "test_data = test_data[[\"fg\", \"fg_percent\", \"x3p\", \"x3p_percent\", \"x2p\", \"x2p_percent\", \"ft\", \"ft_percent\", \"orb\", \"orb_pg\", \"drb\", \"drb_pg\", \"ast\", \"ast_pg\", \"stl\", \"stl_pg\", \"blk\", \"blk_pg\", \"tov\", \"tov_pg\", \"pts\", \"pts_pg\"]].values\n",
        "test_data = preprocessing.StandardScaler().fit_transform(test_data)"
      ],
      "metadata": {
        "id": "8IlzWNr2NsSn"
      },
      "execution_count": null,
      "outputs": []
    },
    {
      "cell_type": "code",
      "source": [
        "lr = LogisticRegression(random_state=0).fit(X_train, y_train)\n",
        "print(lr.score(X_test, y_test))"
      ],
      "metadata": {
        "colab": {
          "base_uri": "https://localhost:8080/"
        },
        "id": "uqSlrjbhmnSv",
        "outputId": "790d9314-a57c-423e-bb74-1617d6f313aa"
      },
      "execution_count": null,
      "outputs": [
        {
          "output_type": "stream",
          "name": "stdout",
          "text": [
            "0.7994428969359332\n"
          ]
        }
      ]
    },
    {
      "cell_type": "code",
      "source": [
        "nb = GaussianNB().fit(X_train, y_train)\n",
        "print(nb.score(X_test, y_test))"
      ],
      "metadata": {
        "colab": {
          "base_uri": "https://localhost:8080/"
        },
        "id": "K3VrcmHnwnMr",
        "outputId": "a743a6a9-356d-4712-c60d-4e09599f264a"
      },
      "execution_count": null,
      "outputs": [
        {
          "output_type": "stream",
          "name": "stdout",
          "text": [
            "0.649025069637883\n"
          ]
        }
      ]
    },
    {
      "cell_type": "code",
      "source": [
        "rf = RandomForestClassifier(max_depth=10, random_state=0).fit(X_train, y_train)\n",
        "print(rf.score(X_test, y_test))"
      ],
      "metadata": {
        "colab": {
          "base_uri": "https://localhost:8080/"
        },
        "id": "kKUtYckoxJ3Q",
        "outputId": "a75afb34-28f2-46ce-a29e-e541e0b621df"
      },
      "execution_count": null,
      "outputs": [
        {
          "output_type": "stream",
          "name": "stdout",
          "text": [
            "0.7353760445682451\n"
          ]
        }
      ]
    },
    {
      "cell_type": "code",
      "source": [
        "mlp = MLPClassifier(random_state=42, max_iter=10000).fit(X_train, y_train)\n",
        "print(mlp.score(X_test, y_test))"
      ],
      "metadata": {
        "colab": {
          "base_uri": "https://localhost:8080/"
        },
        "id": "v0OS2X2cxkNe",
        "outputId": "7551f757-81b2-48ef-d280-cdc2798f12da"
      },
      "execution_count": null,
      "outputs": [
        {
          "output_type": "stream",
          "name": "stdout",
          "text": [
            "0.8050139275766016\n"
          ]
        }
      ]
    },
    {
      "cell_type": "code",
      "source": [
        "knn = KNeighborsClassifier().fit(X_train, y_train)\n",
        "print(knn.score(X_test, y_test))"
      ],
      "metadata": {
        "colab": {
          "base_uri": "https://localhost:8080/"
        },
        "id": "L5hubk3EyEaw",
        "outputId": "a781c923-f679-4172-e04a-80d44072463f"
      },
      "execution_count": null,
      "outputs": [
        {
          "output_type": "stream",
          "name": "stdout",
          "text": [
            "0.7019498607242339\n"
          ]
        }
      ]
    },
    {
      "cell_type": "code",
      "source": [
        "svc = SVC().fit(X_train, y_train)\n",
        "print(svc.score(X_test, y_test))"
      ],
      "metadata": {
        "colab": {
          "base_uri": "https://localhost:8080/"
        },
        "id": "41iOo84lChgj",
        "outputId": "b4132a38-86b2-4915-83dd-78e5105f8b17"
      },
      "execution_count": null,
      "outputs": [
        {
          "output_type": "stream",
          "name": "stdout",
          "text": [
            "0.7855153203342619\n"
          ]
        }
      ]
    }
  ]
}