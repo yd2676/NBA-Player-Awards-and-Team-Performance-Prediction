{
  "nbformat": 4,
  "nbformat_minor": 0,
  "metadata": {
    "colab": {
      "provenance": []
    },
    "kernelspec": {
      "name": "python3",
      "display_name": "Python 3"
    },
    "language_info": {
      "name": "python"
    }
  },
  "cells": [
    {
      "cell_type": "code",
      "execution_count": 1,
      "metadata": {
        "id": "oCDQDBQt3rUh"
      },
      "outputs": [],
      "source": [
        "import pandas as pd\n",
        "import numpy as np\n",
        "from sklearn.linear_model import LogisticRegression\n",
        "from sklearn.naive_bayes import GaussianNB\n",
        "from sklearn.ensemble import RandomForestClassifier\n",
        "from sklearn.neural_network import MLPClassifier\n",
        "from sklearn.svm import SVC\n",
        "from sklearn.neighbors import KNeighborsClassifier\n",
        "from sklearn import preprocessing\n",
        "from sklearn.model_selection import train_test_split"
      ]
    },
    {
      "cell_type": "code",
      "source": [
        "# experiments on mvp prediction\n",
        "player_data = pd.read_csv(\"Player Totals.csv\")\n",
        "award_data = pd.read_csv(\"Player Award Shares.csv\")"
      ],
      "metadata": {
        "id": "abM2D7fu-6x2"
      },
      "execution_count": 2,
      "outputs": []
    },
    {
      "cell_type": "code",
      "source": [
        "award_data = award_data[award_data[\"award\"] == 'nba mvp']"
      ],
      "metadata": {
        "id": "DygGOV6Z_C4z"
      },
      "execution_count": 3,
      "outputs": []
    },
    {
      "cell_type": "code",
      "source": [
        "player_data.insert(0, 'MVP', False)\n",
        "for index, row in award_data.iterrows():\n",
        "    player_data['MVP'] = np.where((player_data['season'] == row['season']) & (player_data['player'] == row['player']) , True, player_data['MVP'])\n",
        "player_data = player_data.fillna(0)\n",
        "testing = player_data[player_data['season'] == 2023]\n",
        "player_names = testing[['player']].values\n",
        "test_data = testing[[\"pts\", \"fg\", \"fg_percent\",\t\"x3p\",\t\"x3p_percent\",\t\"x2p\", \"x2p_percent\", \"e_fg_percent\", \"trb\",\t\"ast\",\t\"stl\",\t\"blk\", \"trb_per_game\", \"ast_per_game\", \"stl_per_game\", \"blk_per_game\", \"pts_per_game\"]].values\n",
        "test_data = preprocessing.StandardScaler().fit_transform(test_data)\n",
        "\n",
        "player_data = player_data[player_data['MVP'] == True]\n",
        "award_data = award_data[award_data[\"winner\"] == False].reset_index(drop=True)\n",
        "for index, row in award_data.iterrows():\n",
        "    player_data['MVP'] = np.where((player_data['season'] == row['season']) & (player_data['player'] == row['player']) , False, player_data['MVP'])"
      ],
      "metadata": {
        "id": "T2Hq3omCAlIv"
      },
      "execution_count": 4,
      "outputs": []
    },
    {
      "cell_type": "code",
      "source": [
        "training = player_data[player_data['season'] >= 1980]\n",
        "training = player_data[player_data['season'] != 2023]\n",
        "X = training[[\"pts\", \"fg\", \"fg_percent\",\t\"x3p\",\t\"x3p_percent\",\t\"x2p\", \"x2p_percent\",\t\"e_fg_percent\",\"trb\",\t\"ast\",\t\"stl\",\t\"blk\", \"trb_per_game\", \"ast_per_game\", \"stl_per_game\", \"blk_per_game\", \"pts_per_game\"]].values\n",
        "y = training['MVP'].values\n",
        "X = preprocessing.StandardScaler().fit_transform(X)\n",
        "X_train, X_test, y_train, y_test = train_test_split(X, y, test_size=0.3, random_state=42)"
      ],
      "metadata": {
        "id": "E4B5hc0EE2m4"
      },
      "execution_count": 5,
      "outputs": []
    },
    {
      "cell_type": "code",
      "source": [
        "lr = LogisticRegression(random_state=0).fit(X_train, y_train)\n",
        "print(lr.score(X_test, y_test))"
      ],
      "metadata": {
        "colab": {
          "base_uri": "https://localhost:8080/"
        },
        "id": "kyIzdBdEnk7-",
        "outputId": "75073b68-f9dc-40cd-ddab-8691eb92f732"
      },
      "execution_count": 6,
      "outputs": [
        {
          "output_type": "stream",
          "name": "stdout",
          "text": [
            "0.9333333333333333\n"
          ]
        }
      ]
    },
    {
      "cell_type": "code",
      "source": [
        "nb = GaussianNB().fit(X_train, y_train)\n",
        "print(nb.score(X_test, y_test))"
      ],
      "metadata": {
        "colab": {
          "base_uri": "https://localhost:8080/"
        },
        "id": "v60NWyOEnmD2",
        "outputId": "a7ec6dd6-0e40-43cf-f62d-8de2a5d270c4"
      },
      "execution_count": 7,
      "outputs": [
        {
          "output_type": "stream",
          "name": "stdout",
          "text": [
            "0.8888888888888888\n"
          ]
        }
      ]
    },
    {
      "cell_type": "code",
      "source": [
        "rf = RandomForestClassifier(max_depth=10, random_state=0).fit(X_train, y_train)\n",
        "print(rf.score(X_test, y_test))"
      ],
      "metadata": {
        "colab": {
          "base_uri": "https://localhost:8080/"
        },
        "id": "X2l-iAPonqNu",
        "outputId": "8b3a11ef-dce9-4612-d375-b1d2870a1b45"
      },
      "execution_count": 8,
      "outputs": [
        {
          "output_type": "stream",
          "name": "stdout",
          "text": [
            "0.9301587301587302\n"
          ]
        }
      ]
    },
    {
      "cell_type": "code",
      "source": [
        "mlp = MLPClassifier(random_state=42, max_iter=10000).fit(X_train, y_train)\n",
        "print(mlp.score(X_test, y_test))"
      ],
      "metadata": {
        "colab": {
          "base_uri": "https://localhost:8080/"
        },
        "id": "sUKKZqoKnsxg",
        "outputId": "e9bdbbc7-b991-49ae-fa8d-d16a960e49f1"
      },
      "execution_count": 9,
      "outputs": [
        {
          "output_type": "stream",
          "name": "stdout",
          "text": [
            "0.9206349206349206\n"
          ]
        }
      ]
    },
    {
      "cell_type": "code",
      "source": [
        "knn = KNeighborsClassifier().fit(X_train, y_train)\n",
        "print(knn.score(X_test, y_test))"
      ],
      "metadata": {
        "colab": {
          "base_uri": "https://localhost:8080/"
        },
        "id": "99Eq2L1LntTs",
        "outputId": "99357421-ae23-40c5-bb3f-fe302658e3f9"
      },
      "execution_count": 10,
      "outputs": [
        {
          "output_type": "stream",
          "name": "stdout",
          "text": [
            "0.9238095238095239\n"
          ]
        }
      ]
    },
    {
      "cell_type": "code",
      "source": [
        "svc = SVC().fit(X_train, y_train)\n",
        "print(svc.score(X_test, y_test))"
      ],
      "metadata": {
        "colab": {
          "base_uri": "https://localhost:8080/"
        },
        "id": "VDCS846THKn3",
        "outputId": "f3b3a345-715d-42b5-ebca-c0e60874bad8"
      },
      "execution_count": 11,
      "outputs": [
        {
          "output_type": "stream",
          "name": "stdout",
          "text": [
            "0.9333333333333333\n"
          ]
        }
      ]
    },
    {
      "cell_type": "code",
      "source": [
        "LR_final = LogisticRegression(random_state=0).fit(X, y)\n",
        "predictions = LR_final.predict_proba(test_data)\n",
        "predictions = predictions[:,1].reshape(-1,1)\n",
        "result = np.hstack((player_names, predictions))"
      ],
      "metadata": {
        "id": "a0WrrSIJnu1N"
      },
      "execution_count": 12,
      "outputs": []
    },
    {
      "cell_type": "code",
      "source": [
        "# experiments on dpoy prediction\n",
        "player_data = pd.read_csv(\"Player Totals.csv\")\n",
        "award_data = pd.read_csv(\"Player Award Shares.csv\")"
      ],
      "metadata": {
        "id": "ezgPnJwHobMV"
      },
      "execution_count": 13,
      "outputs": []
    },
    {
      "cell_type": "code",
      "source": [
        "award_data = award_data[award_data[\"award\"] == 'dpoy']\n",
        "player_data.insert(0, 'dpoy', False)\n",
        "for index, row in award_data.iterrows():\n",
        "    player_data['dpoy'] = np.where((player_data['season'] == row['season']) & (player_data['player'] == row['player']), True, player_data['dpoy'])\n",
        "player_data = player_data.fillna(0)\n",
        "testing = player_data[player_data['season'] == 2023]\n",
        "test_data = testing[[\"drb\",\t\"stl\",\t\"blk\", \"drb_per_game\", \"stl_per_game\", \"blk_per_game\"]].values\n",
        "test_data = preprocessing.StandardScaler().fit_transform(test_data)\n",
        "\n",
        "player_data = player_data[player_data['dpoy'] == True]\n",
        "award_data = award_data[award_data[\"winner\"] == False].reset_index(drop=True)\n",
        "for index, row in award_data.iterrows():\n",
        "    player_data['dpoy'] = np.where((player_data['season'] == row['season']) & (player_data['player'] == row['player']) , False, player_data['dpoy'])"
      ],
      "metadata": {
        "id": "AzfmHNupQMn4",
        "colab": {
          "base_uri": "https://localhost:8080/"
        },
        "outputId": "296212f0-522c-456b-c288-8845ea837e13"
      },
      "execution_count": 14,
      "outputs": [
        {
          "output_type": "stream",
          "name": "stderr",
          "text": [
            "<ipython-input-14-683b8fbcf024>:13: SettingWithCopyWarning: \n",
            "A value is trying to be set on a copy of a slice from a DataFrame.\n",
            "Try using .loc[row_indexer,col_indexer] = value instead\n",
            "\n",
            "See the caveats in the documentation: https://pandas.pydata.org/pandas-docs/stable/user_guide/indexing.html#returning-a-view-versus-a-copy\n",
            "  player_data['dpoy'] = np.where((player_data['season'] == row['season']) & (player_data['player'] == row['player']) , False, player_data['dpoy'])\n"
          ]
        }
      ]
    },
    {
      "cell_type": "code",
      "source": [
        "training = player_data[player_data['season'] >= 1980]\n",
        "training = player_data[player_data['season'] != 2023]\n",
        "X = training[[\"drb\",\t\"stl\",\t\"blk\", \"drb_per_game\", \"stl_per_game\", \"blk_per_game\"]].values\n",
        "y = training['dpoy'].values\n",
        "X = preprocessing.StandardScaler().fit_transform(X)\n",
        "X_train, X_test, y_train, y_test = train_test_split(X, y, test_size=0.3, random_state=42)"
      ],
      "metadata": {
        "id": "OnOQfhjcu3fj"
      },
      "execution_count": 15,
      "outputs": []
    },
    {
      "cell_type": "code",
      "source": [
        "lr = LogisticRegression(random_state=0).fit(X_train, y_train)\n",
        "print(lr.score(X_test, y_test))"
      ],
      "metadata": {
        "colab": {
          "base_uri": "https://localhost:8080/"
        },
        "id": "LcOR26K0u7wI",
        "outputId": "8af9e8b6-efd6-4aba-a8ca-b4f9289e0425"
      },
      "execution_count": 16,
      "outputs": [
        {
          "output_type": "stream",
          "name": "stdout",
          "text": [
            "0.9147727272727273\n"
          ]
        }
      ]
    },
    {
      "cell_type": "code",
      "source": [
        "nb = GaussianNB().fit(X_train, y_train)\n",
        "print(nb.score(X_test, y_test))"
      ],
      "metadata": {
        "colab": {
          "base_uri": "https://localhost:8080/"
        },
        "id": "kt8lC8K4u9yw",
        "outputId": "eda5e9e8-294e-43f3-9f36-aeaf0eb36fbc"
      },
      "execution_count": 17,
      "outputs": [
        {
          "output_type": "stream",
          "name": "stdout",
          "text": [
            "0.8522727272727273\n"
          ]
        }
      ]
    },
    {
      "cell_type": "code",
      "source": [
        "rf = RandomForestClassifier(max_depth=10, random_state=0).fit(X_train, y_train)\n",
        "print(rf.score(X_test, y_test))"
      ],
      "metadata": {
        "colab": {
          "base_uri": "https://localhost:8080/"
        },
        "id": "gIt71vctu_wJ",
        "outputId": "c2e2fa4d-fc3e-436f-9ac8-477feec796b5"
      },
      "execution_count": 18,
      "outputs": [
        {
          "output_type": "stream",
          "name": "stdout",
          "text": [
            "0.9090909090909091\n"
          ]
        }
      ]
    },
    {
      "cell_type": "code",
      "source": [
        "mlp = MLPClassifier(random_state=42, max_iter=10000).fit(X_train, y_train)\n",
        "print(mlp.score(X_test, y_test))"
      ],
      "metadata": {
        "colab": {
          "base_uri": "https://localhost:8080/"
        },
        "id": "dkfBNI79vBpm",
        "outputId": "2542a42d-5dde-44b3-a7a8-e29d19e4b4ef"
      },
      "execution_count": 19,
      "outputs": [
        {
          "output_type": "stream",
          "name": "stdout",
          "text": [
            "0.9147727272727273\n"
          ]
        }
      ]
    },
    {
      "cell_type": "code",
      "source": [
        "knn = KNeighborsClassifier().fit(X_train, y_train)\n",
        "print(knn.score(X_test, y_test))"
      ],
      "metadata": {
        "colab": {
          "base_uri": "https://localhost:8080/"
        },
        "id": "71vJUpWxvDdO",
        "outputId": "456ef4e2-6f40-4466-f471-b71e2d2170a7"
      },
      "execution_count": 20,
      "outputs": [
        {
          "output_type": "stream",
          "name": "stdout",
          "text": [
            "0.9090909090909091\n"
          ]
        }
      ]
    },
    {
      "cell_type": "code",
      "source": [
        "svc = SVC().fit(X_train, y_train)\n",
        "print(svc.score(X_test, y_test))"
      ],
      "metadata": {
        "colab": {
          "base_uri": "https://localhost:8080/"
        },
        "id": "udYstv7mNNW1",
        "outputId": "93556b1b-a9ae-4996-a231-cb50b4f13588"
      },
      "execution_count": 21,
      "outputs": [
        {
          "output_type": "stream",
          "name": "stdout",
          "text": [
            "0.9147727272727273\n"
          ]
        }
      ]
    },
    {
      "cell_type": "code",
      "source": [
        "LR_final = LogisticRegression(random_state=0).fit(X, y)\n",
        "predictions = LR_final.predict_proba(test_data)\n",
        "predictions = predictions[:,1].reshape(-1,1)\n",
        "result = np.hstack((result, predictions))"
      ],
      "metadata": {
        "id": "3nI7hDY_vYaH"
      },
      "execution_count": 22,
      "outputs": []
    },
    {
      "cell_type": "code",
      "source": [
        "# experiments on roy prediction\n",
        "player_data = pd.read_csv(\"Player Totals.csv\")\n",
        "award_data = pd.read_csv(\"Player Award Shares.csv\")"
      ],
      "metadata": {
        "id": "3SVBT-QNJuwE"
      },
      "execution_count": 23,
      "outputs": []
    },
    {
      "cell_type": "code",
      "source": [
        "award_data = award_data[award_data[\"award\"] == 'nba roy']\n",
        "player_data = player_data[player_data['experience'] <= 1]\n",
        "player_data.insert(0, 'roy', False)\n",
        "for index, row in award_data.iterrows():\n",
        "    player_data['roy'] = np.where((player_data['season'] == row['season']) & (player_data['player'] == row['player']) , True, player_data['roy'])\n",
        "player_data = player_data.fillna(0)\n",
        "testing = player_data[player_data['season'] == 2023]\n",
        "rookie_names = testing[['player']].values\n",
        "test_data = testing[[\"pts\", \"fg\", \"fg_percent\",\t\"x3p\",\t\"x3p_percent\",\t\"x2p\", \"x2p_percent\", \"e_fg_percent\", \"trb\",\t\"ast\",\t\"stl\",\t\"blk\", \"trb_per_game\", \"ast_per_game\", \"stl_per_game\", \"blk_per_game\", \"pts_per_game\"]].values\n",
        "test_data = preprocessing.StandardScaler().fit_transform(test_data)\n",
        "\n",
        "player_data = player_data[player_data['roy'] == True]\n",
        "award_data = award_data[award_data[\"winner\"] == False].reset_index(drop=True)\n",
        "for index, row in award_data.iterrows():\n",
        "    player_data['roy'] = np.where((player_data['season'] == row['season']) & (player_data['player'] == row['player']) , False, player_data['roy'])"
      ],
      "metadata": {
        "id": "6Vmu-C4QKr2N"
      },
      "execution_count": 24,
      "outputs": []
    },
    {
      "cell_type": "code",
      "source": [
        "training = player_data[player_data['season'] >= 1980]\n",
        "training = player_data[player_data['season'] != 2023]\n",
        "X = training[[\"pts\", \"fg\", \"fg_percent\",\t\"x3p\",\t\"x3p_percent\",\t\"x2p\", \"x2p_percent\",\t\"e_fg_percent\",\"trb\",\t\"ast\",\t\"stl\",\t\"blk\", \"trb_per_game\", \"ast_per_game\", \"stl_per_game\", \"blk_per_game\", \"pts_per_game\"]].values\n",
        "y = training['roy'].values\n",
        "X = preprocessing.StandardScaler().fit_transform(X)\n",
        "X_train, X_test, y_train, y_test = train_test_split(X, y, test_size=0.3, random_state=42)"
      ],
      "metadata": {
        "id": "kg84XlGBO_Jg"
      },
      "execution_count": 25,
      "outputs": []
    },
    {
      "cell_type": "code",
      "source": [
        "lr = LogisticRegression(random_state=0).fit(X_train, y_train)\n",
        "print(lr.score(X_test, y_test))"
      ],
      "metadata": {
        "colab": {
          "base_uri": "https://localhost:8080/"
        },
        "id": "T2YpizBsPC3J",
        "outputId": "ddf31746-eb9b-4de8-bfcd-80b407ff6857"
      },
      "execution_count": 26,
      "outputs": [
        {
          "output_type": "stream",
          "name": "stdout",
          "text": [
            "0.8736842105263158\n"
          ]
        }
      ]
    },
    {
      "cell_type": "code",
      "source": [
        "nb = GaussianNB().fit(X_train, y_train)\n",
        "print(nb.score(X_test, y_test))"
      ],
      "metadata": {
        "colab": {
          "base_uri": "https://localhost:8080/"
        },
        "id": "TMZ_HwCWPDR_",
        "outputId": "653aef9d-d6d0-4219-dedc-534dfdfd254d"
      },
      "execution_count": 27,
      "outputs": [
        {
          "output_type": "stream",
          "name": "stdout",
          "text": [
            "0.8421052631578947\n"
          ]
        }
      ]
    },
    {
      "cell_type": "code",
      "source": [
        "rf = RandomForestClassifier(max_depth=10, random_state=0).fit(X_train, y_train)\n",
        "print(rf.score(X_test, y_test))"
      ],
      "metadata": {
        "colab": {
          "base_uri": "https://localhost:8080/"
        },
        "id": "5vVxpZXiPFEz",
        "outputId": "f825d8b4-4fe7-4bbe-9d45-065c537b75d0"
      },
      "execution_count": 28,
      "outputs": [
        {
          "output_type": "stream",
          "name": "stdout",
          "text": [
            "0.8315789473684211\n"
          ]
        }
      ]
    },
    {
      "cell_type": "code",
      "source": [
        "mlp = MLPClassifier(random_state=42, max_iter=10000).fit(X_train, y_train)\n",
        "print(mlp.score(X_test, y_test))"
      ],
      "metadata": {
        "colab": {
          "base_uri": "https://localhost:8080/"
        },
        "id": "-SZjcekJPGpk",
        "outputId": "770e2d71-b013-4ebb-9e33-9910f2312c7c"
      },
      "execution_count": 29,
      "outputs": [
        {
          "output_type": "stream",
          "name": "stdout",
          "text": [
            "0.8631578947368421\n"
          ]
        }
      ]
    },
    {
      "cell_type": "code",
      "source": [
        "knn = KNeighborsClassifier().fit(X_train, y_train)\n",
        "print(knn.score(X_test, y_test))"
      ],
      "metadata": {
        "colab": {
          "base_uri": "https://localhost:8080/"
        },
        "id": "ER4XnYUBPIpb",
        "outputId": "01efaada-5b28-4da1-997f-bf56597a2a9d"
      },
      "execution_count": 30,
      "outputs": [
        {
          "output_type": "stream",
          "name": "stdout",
          "text": [
            "0.7894736842105263\n"
          ]
        }
      ]
    },
    {
      "cell_type": "code",
      "source": [
        "svc = SVC().fit(X_train, y_train)\n",
        "print(svc.score(X_test, y_test))"
      ],
      "metadata": {
        "colab": {
          "base_uri": "https://localhost:8080/"
        },
        "id": "jzMxDw2kNZ7Z",
        "outputId": "e2395db3-e3cc-416f-b88f-94537dbb4b29"
      },
      "execution_count": 31,
      "outputs": [
        {
          "output_type": "stream",
          "name": "stdout",
          "text": [
            "0.8105263157894737\n"
          ]
        }
      ]
    },
    {
      "cell_type": "code",
      "source": [
        "LR_final = LogisticRegression(random_state=0).fit(X, y)\n",
        "predictions = LR_final.predict_proba(test_data)\n",
        "predictions = predictions[:,1].reshape(-1,1)\n",
        "\n",
        "result = np.hstack((result, np.zeros(player_names.shape)))"
      ],
      "metadata": {
        "id": "MkFL0qVlRw8v"
      },
      "execution_count": 32,
      "outputs": []
    },
    {
      "cell_type": "code",
      "source": [
        "index = np.where(result[:,0] == rookie_names)[1]\n",
        "j=0\n",
        "for i in index:\n",
        "  result[i][3] = predictions[j][0]\n",
        "  j += 1"
      ],
      "metadata": {
        "id": "j54p1vgNba-P"
      },
      "execution_count": 33,
      "outputs": []
    },
    {
      "cell_type": "code",
      "source": [
        "# experiments on smoy award prediction\n",
        "player_data = pd.read_csv(\"Player Totals.csv\")\n",
        "award_data = pd.read_csv(\"Player Award Shares.csv\")"
      ],
      "metadata": {
        "id": "KQ99m10xfFSP"
      },
      "execution_count": 34,
      "outputs": []
    },
    {
      "cell_type": "code",
      "source": [
        "award_data = award_data[award_data[\"award\"] == 'smoy']\n",
        "player_data.insert(0, 'smoy', False)\n",
        "for index, row in award_data.iterrows():\n",
        "    player_data['smoy'] = np.where((player_data['season'] == row['season']) & (player_data['player'] == row['player']) , True, player_data['smoy'])\n",
        "player_data = player_data.fillna(0)\n",
        "testing = player_data[player_data['season'] == 2023]\n",
        "print(testing.shape)\n",
        "testing = testing[testing['gs'] < 0.5 * testing['g']]\n",
        "print(testing.shape)\n",
        "sm_names = testing[['player']].values\n",
        "test_data = testing[[\"pts\", \"fg\", \"fg_percent\",\t\"x3p\",\t\"x3p_percent\",\t\"x2p\", \"x2p_percent\", \"e_fg_percent\", \"trb\",\t\"ast\",\t\"stl\",\t\"blk\", \"trb_per_game\", \"ast_per_game\", \"stl_per_game\", \"blk_per_game\", \"pts_per_game\"]].values\n",
        "test_data = preprocessing.StandardScaler().fit_transform(test_data)\n",
        "\n",
        "player_data = player_data[player_data['smoy'] == True]\n",
        "award_data = award_data[award_data[\"winner\"] == False].reset_index(drop=True)\n",
        "for index, row in award_data.iterrows():\n",
        "    player_data['smoy'] = np.where((player_data['season'] == row['season']) & (player_data['player'] == row['player']) , False, player_data['smoy'])"
      ],
      "metadata": {
        "colab": {
          "base_uri": "https://localhost:8080/"
        },
        "id": "bIQwkiFQfFwp",
        "outputId": "ec305e30-0680-4717-a6c4-7e5d09a6c6a5"
      },
      "execution_count": 35,
      "outputs": [
        {
          "output_type": "stream",
          "name": "stdout",
          "text": [
            "(476, 45)\n",
            "(303, 45)\n"
          ]
        }
      ]
    },
    {
      "cell_type": "code",
      "source": [
        "training = player_data[player_data['season'] >= 1980]\n",
        "training = player_data[player_data['season'] != 2023]\n",
        "X = training[[\"pts\", \"fg\", \"fg_percent\",\t\"x3p\",\t\"x3p_percent\",\t\"x2p\", \"x2p_percent\",\t\"e_fg_percent\",\"trb\",\t\"ast\",\t\"stl\",\t\"blk\", \"trb_per_game\", \"ast_per_game\", \"stl_per_game\", \"blk_per_game\", \"pts_per_game\"]].values\n",
        "y = training['smoy'].values\n",
        "X = preprocessing.StandardScaler().fit_transform(X)\n",
        "X_train, X_test, y_train, y_test = train_test_split(X, y, test_size=0.3, random_state=42)"
      ],
      "metadata": {
        "id": "DN6sVoJuhCaM"
      },
      "execution_count": 36,
      "outputs": []
    },
    {
      "cell_type": "code",
      "source": [
        "lr = LogisticRegression(random_state=0).fit(X_train, y_train)\n",
        "print(lr.score(X_test, y_test))"
      ],
      "metadata": {
        "colab": {
          "base_uri": "https://localhost:8080/"
        },
        "id": "eUu-T6nHhDJ8",
        "outputId": "490fbcb9-f6f5-4854-f0c9-319d26b726ba"
      },
      "execution_count": 37,
      "outputs": [
        {
          "output_type": "stream",
          "name": "stdout",
          "text": [
            "0.9225806451612903\n"
          ]
        }
      ]
    },
    {
      "cell_type": "code",
      "source": [
        "nb = GaussianNB().fit(X_train, y_train)\n",
        "print(nb.score(X_test, y_test))"
      ],
      "metadata": {
        "colab": {
          "base_uri": "https://localhost:8080/"
        },
        "id": "ERYl29t3hFPB",
        "outputId": "0e18b79f-4e45-41cf-b453-77faf8f01b59"
      },
      "execution_count": 38,
      "outputs": [
        {
          "output_type": "stream",
          "name": "stdout",
          "text": [
            "0.864516129032258\n"
          ]
        }
      ]
    },
    {
      "cell_type": "code",
      "source": [
        "rf = RandomForestClassifier(max_depth=10, random_state=0).fit(X_train, y_train)\n",
        "print(rf.score(X_test, y_test))"
      ],
      "metadata": {
        "colab": {
          "base_uri": "https://localhost:8080/"
        },
        "id": "TlhPjVuohHBs",
        "outputId": "93181151-bf6c-4dfd-f6d5-36f87db5d85d"
      },
      "execution_count": 39,
      "outputs": [
        {
          "output_type": "stream",
          "name": "stdout",
          "text": [
            "0.9483870967741935\n"
          ]
        }
      ]
    },
    {
      "cell_type": "code",
      "source": [
        "mlp = MLPClassifier(random_state=42, max_iter=10000).fit(X_train, y_train)\n",
        "print(mlp.score(X_test, y_test))"
      ],
      "metadata": {
        "colab": {
          "base_uri": "https://localhost:8080/"
        },
        "id": "ZHHxbJS6hJuL",
        "outputId": "2a1c60fd-8da8-4c39-ab5c-ad933c560d55"
      },
      "execution_count": 40,
      "outputs": [
        {
          "output_type": "stream",
          "name": "stdout",
          "text": [
            "0.9354838709677419\n"
          ]
        }
      ]
    },
    {
      "cell_type": "code",
      "source": [
        "knn = KNeighborsClassifier().fit(X_train, y_train)\n",
        "print(knn.score(X_test, y_test))"
      ],
      "metadata": {
        "colab": {
          "base_uri": "https://localhost:8080/"
        },
        "id": "zOFSva_khKbs",
        "outputId": "88a778d1-8bd0-4797-9a5c-96f5e803487e"
      },
      "execution_count": 41,
      "outputs": [
        {
          "output_type": "stream",
          "name": "stdout",
          "text": [
            "0.9419354838709677\n"
          ]
        }
      ]
    },
    {
      "cell_type": "code",
      "source": [
        "svc = SVC().fit(X_train, y_train)\n",
        "print(svc.score(X_test, y_test))"
      ],
      "metadata": {
        "colab": {
          "base_uri": "https://localhost:8080/"
        },
        "id": "VmvV41bpNnPu",
        "outputId": "8c9af533-691c-4fa4-c088-092b9b1d8e28"
      },
      "execution_count": 42,
      "outputs": [
        {
          "output_type": "stream",
          "name": "stdout",
          "text": [
            "0.9354838709677419\n"
          ]
        }
      ]
    },
    {
      "cell_type": "code",
      "source": [
        "RF_final = RandomForestClassifier(max_depth=10, random_state=0).fit(X, y)\n",
        "predictions = RF_final.predict_proba(test_data)\n",
        "predictions = predictions[:,1].reshape(-1,1)\n",
        "\n",
        "result = np.hstack((result, np.zeros(player_names.shape)))"
      ],
      "metadata": {
        "id": "MsfsuBHUhL7l"
      },
      "execution_count": 43,
      "outputs": []
    },
    {
      "cell_type": "code",
      "source": [
        "index = np.where(result[:,0] == sm_names)[1]\n",
        "j=0\n",
        "for i in index:\n",
        "  result[i][4] = predictions[j][0]\n",
        "  j += 1"
      ],
      "metadata": {
        "id": "ctREcwXIhbH6"
      },
      "execution_count": 44,
      "outputs": []
    },
    {
      "cell_type": "code",
      "source": [
        "# store the results in a csv file\n",
        "df = pd.DataFrame(result, columns = ['Player Name', 'p(MVP)', 'p(DPOY)', 'p(ROY)', 'p(SMOY)'])\n",
        "df['p(MVP)'] = df['p(MVP)'] * 100\n",
        "df['p(MVP)'] = df['p(MVP)'].astype(float).round(3)\n",
        "df['p(DPOY)'] = df['p(DPOY)'] * 100\n",
        "df['p(DPOY)'] = df['p(DPOY)'].astype(float).round(3)\n",
        "df['p(ROY)'] = df['p(ROY)'] * 100\n",
        "df['p(ROY)'] = df['p(ROY)'].astype(float).round(3)\n",
        "df['p(SMOY)'] = df['p(SMOY)'] * 100\n",
        "df['p(SMOY)'] = df['p(SMOY)'].astype(float).round(3)\n",
        "df.to_csv('Player Results.csv', index=None)"
      ],
      "metadata": {
        "id": "yiS9S6LmholH"
      },
      "execution_count": 45,
      "outputs": []
    }
  ]
}